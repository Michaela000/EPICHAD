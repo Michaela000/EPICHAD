{
 "cells": [
  {
   "cell_type": "code",
   "execution_count": 1,
   "id": "875ed9bd",
   "metadata": {},
   "outputs": [],
   "source": [
    "# import the math module in order to use the squareroot function \n",
    "import math"
   ]
  },
  {
   "cell_type": "code",
   "execution_count": 2,
   "id": "fd0bcb90",
   "metadata": {},
   "outputs": [],
   "source": [
    "# define function for addition\n",
    "def add(x, y):\n",
    "    return x + y"
   ]
  },
  {
   "cell_type": "code",
   "execution_count": 3,
   "id": "cc23bacc",
   "metadata": {},
   "outputs": [],
   "source": [
    "# define function for subtraction\n",
    "def subtract(x, y):\n",
    "    return x - y"
   ]
  },
  {
   "cell_type": "code",
   "execution_count": 4,
   "id": "e11fbe00",
   "metadata": {},
   "outputs": [],
   "source": [
    "# define function for multiplication\n",
    "def multiply(x, y):\n",
    "    return x * y"
   ]
  },
  {
   "cell_type": "code",
   "execution_count": 5,
   "id": "1463d92a",
   "metadata": {},
   "outputs": [],
   "source": [
    "# define function for division\n",
    "def divide(x, y):\n",
    "    return x / y"
   ]
  },
  {
   "cell_type": "code",
   "execution_count": 6,
   "id": "3f4a521c",
   "metadata": {},
   "outputs": [],
   "source": [
    "# define function for power ^2\n",
    "def power(x, y):\n",
    "    return x ** y"
   ]
  },
  {
   "cell_type": "code",
   "execution_count": 18,
   "id": "fce59f8d",
   "metadata": {},
   "outputs": [],
   "source": [
    "# define function for square root\n",
    "def square(x):\n",
    "    return math.sqrt(x)"
   ]
  },
  {
   "cell_type": "code",
   "execution_count": 19,
   "id": "670e369b",
   "metadata": {},
   "outputs": [
    {
     "name": "stdout",
     "output_type": "stream",
     "text": [
      "Select an operation.\n",
      "1.Add\n",
      "2.Subtract\n",
      "3.Multiply\n",
      "4.Divide\n",
      "5.Power\n",
      "6.Square\n"
     ]
    }
   ],
   "source": [
    "print(\"Select an operation.\") #create menue of the operators \n",
    "print(\"1.Add\")\n",
    "print(\"2.Subtract\")\n",
    "print(\"3.Multiply\")\n",
    "print(\"4.Divide\")\n",
    "print(\"5.Power\")\n",
    "print(\"6.Square\")"
   ]
  },
  {
   "cell_type": "code",
   "execution_count": 26,
   "id": "622ed5c0",
   "metadata": {},
   "outputs": [
    {
     "name": "stdout",
     "output_type": "stream",
     "text": [
      "Enter choice(1/2/3/4/5/6): 4\n",
      "Enter first number: 3\n",
      "Enter second number: 3\n",
      "3.0 / 3.0 = 1.0\n"
     ]
    }
   ],
   "source": [
    "while True:\n",
    "    choice = input(\"Enter choice(1/2/3/4/5/6): \") # define operation choice \n",
    "\n",
    "    if choice in ('1', '2', '3', '4', '5','6'):\n",
    "        num1 = float(input(\"Enter first number: \")) #define input number 1\n",
    "        num2 = float(input(\"Enter second number: \")) # define input number 2\n",
    "\n",
    "        if choice == '1':\n",
    "            print(num1, \"+\", num2, \"=\", add(num1, num2)) #print addition\n",
    "\n",
    "        elif choice == '2':\n",
    "            print(num1, \"-\", num2, \"=\", subtract(num1, num2)) #print substraction\n",
    "\n",
    "        elif choice == '3':\n",
    "            print(num1, \"*\", num2, \"=\", multiply(num1, num2)) #print multiplication\n",
    "\n",
    "        elif choice == '4':\n",
    "            if num2 == 0:\n",
    "                print (\"Error!\") #Error for division by 0\n",
    "            else: \n",
    "                print(num1, \"/\", num2, \"=\", divide(num1, num2)) #print division\n",
    "        \n",
    "        elif choice == '5':\n",
    "            print(num1, \"**\", num2, \"=\", power(num1, num2)) #print power\n",
    "        elif choice == '6':\n",
    "            print(num1, \"math.sqrt\", square(num1)) #print square root\n",
    "        break\n",
    "    else:\n",
    "        print(\"Invalid Input\") #print result \"Invalid Input\""
   ]
  },
  {
   "cell_type": "code",
   "execution_count": null,
   "id": "a4dd8855",
   "metadata": {},
   "outputs": [],
   "source": []
  }
 ],
 "metadata": {
  "kernelspec": {
   "display_name": "Python 3",
   "language": "python",
   "name": "python3"
  },
  "language_info": {
   "codemirror_mode": {
    "name": "ipython",
    "version": 3
   },
   "file_extension": ".py",
   "mimetype": "text/x-python",
   "name": "python",
   "nbconvert_exporter": "python",
   "pygments_lexer": "ipython3",
   "version": "3.8.5"
  }
 },
 "nbformat": 4,
 "nbformat_minor": 5
}
