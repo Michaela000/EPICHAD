{
 "cells": [
  {
   "cell_type": "code",
   "execution_count": 1,
   "id": "875ed9bd",
   "metadata": {},
   "outputs": [],
   "source": [
    "# import the math module in order to use the squareroot function \n",
    "import math"
   ]
  },
  {
   "cell_type": "code",
   "execution_count": 4,
   "id": "a4dd8855",
   "metadata": {
    "scrolled": false
   },
   "outputs": [
    {
     "name": "stdout",
     "output_type": "stream",
     "text": [
      "Enter first number: 4\n",
      "Enter second number: 5\n",
      "0. Exit\n",
      "1. Add\n",
      "2. Subtraction\n",
      "3. Multiplication\n",
      "4. Division\n",
      "5. Power\n",
      "6. Squareroot\n",
      "Enter choice: 5\n",
      "Result:  1024.0\n",
      "0. Exit\n",
      "1. Add\n",
      "2. Subtraction\n",
      "3. Multiplication\n",
      "4. Division\n",
      "5. Power\n",
      "6. Squareroot\n",
      "Enter choice: 0\n",
      "Done!\n",
      "\n"
     ]
    }
   ],
   "source": [
    "class cal():\n",
    "    def __init__(self,x,y): #class approach\n",
    "        self.x=x\n",
    "        self.y=y\n",
    "    def add(self): #define function for addition\n",
    "        return self.x+self.y \n",
    "    def sub(self): #define function for substraction\n",
    "        return self.x-self.y\n",
    "    def mul(self): #define function for multiplication\n",
    "        return self.x*self.y\n",
    "    def div(self): #define function for division\n",
    "        return self.x/self.y\n",
    "    def power(self): #define function for power\n",
    "        return self.x**self.y\n",
    "    def sqrt (self): #define function for squareroot\n",
    "        return math.sqrt(self.x)\n",
    "\n",
    "# define import number 1 and 2\n",
    "x=float(input(\"Enter first number: \"))\n",
    "y=float(input(\"Enter second number: \"))\n",
    "obj=cal(x,y)\n",
    "\n",
    "# define our choice \n",
    "choice=1\n",
    "while choice!=0:\n",
    "    print(\"0. Exit\")\n",
    "    print(\"1. Add\")\n",
    "    print(\"2. Subtraction\")\n",
    "    print(\"3. Multiplication\")\n",
    "    print(\"4. Division\")\n",
    "    print(\"5. Power\")\n",
    "    print(\"6. Squareroot\")\n",
    "\n",
    "# Enter the choice\n",
    "    choice=int(input(\"Enter choice: \"))\n",
    "\n",
    "# print the selected choice   \n",
    "    if choice==1:\n",
    "        print(\"Result: \",obj.add())\n",
    "    elif choice==2:\n",
    "        print(\"Result: \",obj.sub())\n",
    "    elif choice==3:\n",
    "        print(\"Result: \",obj.mul())\n",
    "    elif choice==4:\n",
    "        if y ==0:\n",
    "            print (\"Error!\")\n",
    "        else:\n",
    "            print(\"Result: \",round(obj.div(),2))\n",
    "    elif choice==5:\n",
    "        print(\"Result: \", obj.power())\n",
    "    elif choice==6:\n",
    "        print(\"Result: \", obj.sqrt())\n",
    "    elif choice==0:\n",
    "        print(\"Done!\")\n",
    "    else:\n",
    "        print(\"Invalid choice!!\")\n",
    " \n",
    " \n",
    "print()"
   ]
  },
  {
   "cell_type": "code",
   "execution_count": null,
   "id": "6e6b05f5",
   "metadata": {},
   "outputs": [],
   "source": []
  }
 ],
 "metadata": {
  "kernelspec": {
   "display_name": "Python 3",
   "language": "python",
   "name": "python3"
  },
  "language_info": {
   "codemirror_mode": {
    "name": "ipython",
    "version": 3
   },
   "file_extension": ".py",
   "mimetype": "text/x-python",
   "name": "python",
   "nbconvert_exporter": "python",
   "pygments_lexer": "ipython3",
   "version": "3.8.5"
  }
 },
 "nbformat": 4,
 "nbformat_minor": 5
}
